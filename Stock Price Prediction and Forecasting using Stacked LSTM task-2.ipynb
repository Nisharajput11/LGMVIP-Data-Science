{
 "cells": [
  {
   "cell_type": "raw",
   "id": "4074233a",
   "metadata": {},
   "source": [
    "#LGM-VIP Data Science Task 1\n",
    "Nisha Rajput"
   ]
  },
  {
   "cell_type": "code",
   "execution_count": 1,
   "id": "cf61e0e8",
   "metadata": {},
   "outputs": [],
   "source": [
    "#import libraries\n",
    "import numpy as np\n",
    "import matplotlib.pyplot as plt\n",
    "import pandas as pd\n",
    "from sklearn.preprocessing import MinMaxScaler\n",
    "import tensorflow as tf\n",
    "from tensorflow.python.keras.models import Sequential\n",
    "from tensorflow.python.keras.layers import Dense\n",
    "from tensorflow.python.keras.layers import LSTM\n",
    "import math\n",
    "from sklearn.metrics import mean_squared_error"
   ]
  },
  {
   "cell_type": "code",
   "execution_count": 2,
   "id": "e3e945d3",
   "metadata": {},
   "outputs": [],
   "source": [
    "#load data\n",
    "data=pd.read_csv('TataGlobal.csv')"
   ]
  },
  {
   "cell_type": "code",
   "execution_count": 3,
   "id": "1b3834db",
   "metadata": {},
   "outputs": [
    {
     "data": {
      "text/html": [
       "<div>\n",
       "<style scoped>\n",
       "    .dataframe tbody tr th:only-of-type {\n",
       "        vertical-align: middle;\n",
       "    }\n",
       "\n",
       "    .dataframe tbody tr th {\n",
       "        vertical-align: top;\n",
       "    }\n",
       "\n",
       "    .dataframe thead th {\n",
       "        text-align: right;\n",
       "    }\n",
       "</style>\n",
       "<table border=\"1\" class=\"dataframe\">\n",
       "  <thead>\n",
       "    <tr style=\"text-align: right;\">\n",
       "      <th></th>\n",
       "      <th>Date</th>\n",
       "      <th>Open</th>\n",
       "      <th>High</th>\n",
       "      <th>Low</th>\n",
       "      <th>Last</th>\n",
       "      <th>Close</th>\n",
       "      <th>Total Trade Quantity</th>\n",
       "      <th>Turnover (Lacs)</th>\n",
       "    </tr>\n",
       "  </thead>\n",
       "  <tbody>\n",
       "    <tr>\n",
       "      <th>0</th>\n",
       "      <td>2018-09-28</td>\n",
       "      <td>234.05</td>\n",
       "      <td>235.95</td>\n",
       "      <td>230.20</td>\n",
       "      <td>233.50</td>\n",
       "      <td>233.75</td>\n",
       "      <td>3069914</td>\n",
       "      <td>7162.35</td>\n",
       "    </tr>\n",
       "    <tr>\n",
       "      <th>1</th>\n",
       "      <td>2018-09-27</td>\n",
       "      <td>234.55</td>\n",
       "      <td>236.80</td>\n",
       "      <td>231.10</td>\n",
       "      <td>233.80</td>\n",
       "      <td>233.25</td>\n",
       "      <td>5082859</td>\n",
       "      <td>11859.95</td>\n",
       "    </tr>\n",
       "    <tr>\n",
       "      <th>2</th>\n",
       "      <td>2018-09-26</td>\n",
       "      <td>240.00</td>\n",
       "      <td>240.00</td>\n",
       "      <td>232.50</td>\n",
       "      <td>235.00</td>\n",
       "      <td>234.25</td>\n",
       "      <td>2240909</td>\n",
       "      <td>5248.60</td>\n",
       "    </tr>\n",
       "    <tr>\n",
       "      <th>3</th>\n",
       "      <td>2018-09-25</td>\n",
       "      <td>233.30</td>\n",
       "      <td>236.75</td>\n",
       "      <td>232.00</td>\n",
       "      <td>236.25</td>\n",
       "      <td>236.10</td>\n",
       "      <td>2349368</td>\n",
       "      <td>5503.90</td>\n",
       "    </tr>\n",
       "    <tr>\n",
       "      <th>4</th>\n",
       "      <td>2018-09-24</td>\n",
       "      <td>233.55</td>\n",
       "      <td>239.20</td>\n",
       "      <td>230.75</td>\n",
       "      <td>234.00</td>\n",
       "      <td>233.30</td>\n",
       "      <td>3423509</td>\n",
       "      <td>7999.55</td>\n",
       "    </tr>\n",
       "  </tbody>\n",
       "</table>\n",
       "</div>"
      ],
      "text/plain": [
       "         Date    Open    High     Low    Last   Close  Total Trade Quantity  \\\n",
       "0  2018-09-28  234.05  235.95  230.20  233.50  233.75               3069914   \n",
       "1  2018-09-27  234.55  236.80  231.10  233.80  233.25               5082859   \n",
       "2  2018-09-26  240.00  240.00  232.50  235.00  234.25               2240909   \n",
       "3  2018-09-25  233.30  236.75  232.00  236.25  236.10               2349368   \n",
       "4  2018-09-24  233.55  239.20  230.75  234.00  233.30               3423509   \n",
       "\n",
       "   Turnover (Lacs)  \n",
       "0          7162.35  \n",
       "1         11859.95  \n",
       "2          5248.60  \n",
       "3          5503.90  \n",
       "4          7999.55  "
      ]
     },
     "execution_count": 3,
     "metadata": {},
     "output_type": "execute_result"
    }
   ],
   "source": [
    "data.head()"
   ]
  },
  {
   "cell_type": "code",
   "execution_count": 4,
   "id": "8bf31424",
   "metadata": {},
   "outputs": [
    {
     "data": {
      "text/html": [
       "<div>\n",
       "<style scoped>\n",
       "    .dataframe tbody tr th:only-of-type {\n",
       "        vertical-align: middle;\n",
       "    }\n",
       "\n",
       "    .dataframe tbody tr th {\n",
       "        vertical-align: top;\n",
       "    }\n",
       "\n",
       "    .dataframe thead th {\n",
       "        text-align: right;\n",
       "    }\n",
       "</style>\n",
       "<table border=\"1\" class=\"dataframe\">\n",
       "  <thead>\n",
       "    <tr style=\"text-align: right;\">\n",
       "      <th></th>\n",
       "      <th>Date</th>\n",
       "      <th>Open</th>\n",
       "      <th>High</th>\n",
       "      <th>Low</th>\n",
       "      <th>Last</th>\n",
       "      <th>Close</th>\n",
       "      <th>Total Trade Quantity</th>\n",
       "      <th>Turnover (Lacs)</th>\n",
       "    </tr>\n",
       "  </thead>\n",
       "  <tbody>\n",
       "    <tr>\n",
       "      <th>2030</th>\n",
       "      <td>2010-07-27</td>\n",
       "      <td>117.6</td>\n",
       "      <td>119.50</td>\n",
       "      <td>112.00</td>\n",
       "      <td>118.80</td>\n",
       "      <td>118.65</td>\n",
       "      <td>586100</td>\n",
       "      <td>694.98</td>\n",
       "    </tr>\n",
       "    <tr>\n",
       "      <th>2031</th>\n",
       "      <td>2010-07-26</td>\n",
       "      <td>120.1</td>\n",
       "      <td>121.00</td>\n",
       "      <td>117.10</td>\n",
       "      <td>117.10</td>\n",
       "      <td>117.60</td>\n",
       "      <td>658440</td>\n",
       "      <td>780.01</td>\n",
       "    </tr>\n",
       "    <tr>\n",
       "      <th>2032</th>\n",
       "      <td>2010-07-23</td>\n",
       "      <td>121.8</td>\n",
       "      <td>121.95</td>\n",
       "      <td>120.25</td>\n",
       "      <td>120.35</td>\n",
       "      <td>120.65</td>\n",
       "      <td>281312</td>\n",
       "      <td>340.31</td>\n",
       "    </tr>\n",
       "    <tr>\n",
       "      <th>2033</th>\n",
       "      <td>2010-07-22</td>\n",
       "      <td>120.3</td>\n",
       "      <td>122.00</td>\n",
       "      <td>120.25</td>\n",
       "      <td>120.75</td>\n",
       "      <td>120.90</td>\n",
       "      <td>293312</td>\n",
       "      <td>355.17</td>\n",
       "    </tr>\n",
       "    <tr>\n",
       "      <th>2034</th>\n",
       "      <td>2010-07-21</td>\n",
       "      <td>122.1</td>\n",
       "      <td>123.00</td>\n",
       "      <td>121.05</td>\n",
       "      <td>121.10</td>\n",
       "      <td>121.55</td>\n",
       "      <td>658666</td>\n",
       "      <td>803.56</td>\n",
       "    </tr>\n",
       "  </tbody>\n",
       "</table>\n",
       "</div>"
      ],
      "text/plain": [
       "            Date   Open    High     Low    Last   Close  Total Trade Quantity  \\\n",
       "2030  2010-07-27  117.6  119.50  112.00  118.80  118.65                586100   \n",
       "2031  2010-07-26  120.1  121.00  117.10  117.10  117.60                658440   \n",
       "2032  2010-07-23  121.8  121.95  120.25  120.35  120.65                281312   \n",
       "2033  2010-07-22  120.3  122.00  120.25  120.75  120.90                293312   \n",
       "2034  2010-07-21  122.1  123.00  121.05  121.10  121.55                658666   \n",
       "\n",
       "      Turnover (Lacs)  \n",
       "2030           694.98  \n",
       "2031           780.01  \n",
       "2032           340.31  \n",
       "2033           355.17  \n",
       "2034           803.56  "
      ]
     },
     "execution_count": 4,
     "metadata": {},
     "output_type": "execute_result"
    }
   ],
   "source": [
    "data.tail()"
   ]
  },
  {
   "cell_type": "code",
   "execution_count": 5,
   "id": "bcd0d453",
   "metadata": {},
   "outputs": [],
   "source": [
    "df1=data.reset_index()['Close']"
   ]
  },
  {
   "cell_type": "code",
   "execution_count": 6,
   "id": "b2dd9af0",
   "metadata": {},
   "outputs": [
    {
     "data": {
      "text/plain": [
       "(2035,)"
      ]
     },
     "execution_count": 6,
     "metadata": {},
     "output_type": "execute_result"
    }
   ],
   "source": [
    "df1.shape"
   ]
  },
  {
   "cell_type": "code",
   "execution_count": 7,
   "id": "685549bf",
   "metadata": {},
   "outputs": [
    {
     "data": {
      "text/plain": [
       "[<matplotlib.lines.Line2D at 0x1d84a19e8c0>]"
      ]
     },
     "execution_count": 7,
     "metadata": {},
     "output_type": "execute_result"
    },
    {
     "data": {
      "image/png": "[encoded data removed]",
      "text/plain": [
       "<Figure size 432x288 with 1 Axes>"
      ]
     },
     "metadata": {
      "needs_background": "light"
     },
     "output_type": "display_data"
    }
   ],
   "source": [
    "plt.plot(df1)"
   ]
  },
  {
   "cell_type": "code",
   "execution_count": 9,
   "id": "f10f012a",
   "metadata": {},
   "outputs": [],
   "source": [
    "scaler = MinMaxScaler(feature_range = (0,1))\n",
    "df1 = scaler.fit_transform(np.array(df1).reshape(-1,1))"
   ]
  },
  {
   "cell_type": "code",
   "execution_count": 10,
   "id": "d9728cec",
   "metadata": {},
   "outputs": [
    {
     "data": {
      "text/plain": [
       "(2035, 1)"
      ]
     },
     "execution_count": 10,
     "metadata": {},
     "output_type": "execute_result"
    }
   ],
   "source": [
    "df1.shape"
   ]
  },
  {
   "cell_type": "code",
   "execution_count": 11,
   "id": "3e8e2150",
   "metadata": {},
   "outputs": [
    {
     "data": {
      "text/plain": [
       "array([[0.62418301],\n",
       "       [0.62214052],\n",
       "       [0.62622549],\n",
       "       ...,\n",
       "       [0.1621732 ],\n",
       "       [0.16319444],\n",
       "       [0.16584967]])"
      ]
     },
     "execution_count": 11,
     "metadata": {},
     "output_type": "execute_result"
    }
   ],
   "source": [
    "df1"
   ]
  },
  {
   "cell_type": "code",
   "execution_count": 12,
   "id": "76133dd8",
   "metadata": {},
   "outputs": [],
   "source": [
    "#Split the data into train and test split\n",
    "training_size = int(len(df1) * 0.75)\n",
    "test_size = len(df1) - training_size\n",
    "train_data, test_data = df1[0:training_size,:], df1[training_size:len(df1),:1]"
   ]
  },
  {
   "cell_type": "code",
   "execution_count": 14,
   "id": "b6cc0678",
   "metadata": {},
   "outputs": [],
   "source": [
    "#data preprocessing\n",
    "def create_dataset(dataset, time_step = 1):\n",
    "    dataX, dataY = [], []\n",
    "    for i in range(len(dataset) - time_step - 1):\n",
    "        a = dataset[i:(i+time_step), 0]\n",
    "        dataX.append(a)\n",
    "        dataY.append(dataset[i+time_step, 0])\n",
    "    return np.array(dataX), np.array(dataY)"
   ]
  },
  {
   "cell_type": "code",
   "execution_count": 15,
   "id": "ab0e4a8f",
   "metadata": {},
   "outputs": [],
   "source": [
    "time_step = 100\n",
    "x_train, y_train = create_dataset(train_data, time_step)\n",
    "x_test, y_test = create_dataset(test_data, time_step)"
   ]
  },
  {
   "cell_type": "code",
   "execution_count": 16,
   "id": "061a32f1",
   "metadata": {},
   "outputs": [],
   "source": [
    "#Reshape the input to be [samples, time steps, features] which is the requirement of LSTM\n",
    "x_train = x_train.reshape(x_train.shape[0], x_train.shape[1], 1)\n",
    "x_test = x_test.reshape(x_test.shape[0], x_test.shape[1], 1)"
   ]
  },
  {
   "cell_type": "code",
   "execution_count": 17,
   "id": "992b11e0",
   "metadata": {},
   "outputs": [],
   "source": [
    "#Create the LSTM Model\n",
    "model = Sequential()\n",
    "model.add(LSTM(50, return_sequences = True, input_shape = (100,1)))\n",
    "model.add(LSTM(50, return_sequences = True))\n",
    "model.add(LSTM(50))\n",
    "model.add(Dense(1))\n",
    "model.compile(loss = 'mean_squared_error', optimizer = 'adam')"
   ]
  },
  {
   "cell_type": "code",
   "execution_count": 18,
   "id": "a1ba01c3",
   "metadata": {},
   "outputs": [
    {
     "name": "stdout",
     "output_type": "stream",
     "text": [
      "Model: \"sequential\"\n",
      "_________________________________________________________________\n",
      "Layer (type)                 Output Shape              Param #   \n",
      "=================================================================\n",
      "lstm (LSTM)                  (None, 100, 50)           10400     \n",
      "_________________________________________________________________\n",
      "lstm_1 (LSTM)                (None, 100, 50)           20200     \n",
      "_________________________________________________________________\n",
      "lstm_2 (LSTM)                (None, 50)                20200     \n",
      "_________________________________________________________________\n",
      "dense (Dense)                (None, 1)                 51        \n",
      "=================================================================\n",
      "Total params: 50,851\n",
      "Trainable params: 50,851\n",
      "Non-trainable params: 0\n",
      "_________________________________________________________________\n"
     ]
    }
   ],
   "source": [
    "model.summary()"
   ]
  },
  {
   "cell_type": "code",
   "execution_count": 19,
   "id": "d65a17f8",
   "metadata": {},
   "outputs": [
    {
     "name": "stdout",
     "output_type": "stream",
     "text": [
      "Epoch 1/100\n",
      "23/23 [==============================] - 16s 351ms/step - loss: 0.0303 - val_loss: 0.0061\n",
      "Epoch 2/100\n",
      "23/23 [==============================] - 7s 296ms/step - loss: 0.0024 - val_loss: 0.0014\n",
      "Epoch 3/100\n",
      "23/23 [==============================] - 7s 305ms/step - loss: 0.0015 - val_loss: 0.0020\n",
      "Epoch 4/100\n",
      "23/23 [==============================] - 8s 329ms/step - loss: 0.0013 - val_loss: 0.0019\n",
      "Epoch 5/100\n",
      "23/23 [==============================] - 7s 293ms/step - loss: 0.0013 - val_loss: 0.0017\n",
      "Epoch 6/100\n",
      "23/23 [==============================] - 8s 324ms/step - loss: 0.0012 - val_loss: 0.0018\n",
      "Epoch 7/100\n",
      "23/23 [==============================] - 7s 286ms/step - loss: 0.0011 - val_loss: 0.0015\n",
      "Epoch 8/100\n",
      "23/23 [==============================] - 7s 307ms/step - loss: 0.0012 - val_loss: 0.0014\n",
      "Epoch 9/100\n",
      "23/23 [==============================] - 8s 329ms/step - loss: 0.0012 - val_loss: 7.9661e-04\n",
      "Epoch 10/100\n",
      "23/23 [==============================] - 7s 302ms/step - loss: 0.0012 - val_loss: 0.0012\n",
      "Epoch 11/100\n",
      "23/23 [==============================] - 7s 327ms/step - loss: 0.0011 - val_loss: 0.0011\n",
      "Epoch 12/100\n",
      "23/23 [==============================] - 7s 295ms/step - loss: 9.2722e-04 - val_loss: 6.9921e-04\n",
      "Epoch 13/100\n",
      "23/23 [==============================] - 7s 320ms/step - loss: 8.8727e-04 - val_loss: 9.2585e-04\n",
      "Epoch 14/100\n",
      "23/23 [==============================] - 7s 303ms/step - loss: 8.9406e-04 - val_loss: 6.5850e-04\n",
      "Epoch 15/100\n",
      "23/23 [==============================] - 7s 312ms/step - loss: 8.3313e-04 - val_loss: 7.5827e-04\n",
      "Epoch 16/100\n",
      "23/23 [==============================] - 7s 291ms/step - loss: 7.9672e-04 - val_loss: 7.1019e-04\n",
      "Epoch 17/100\n",
      "23/23 [==============================] - 7s 324ms/step - loss: 7.6637e-04 - val_loss: 6.7765e-04\n",
      "Epoch 18/100\n",
      "23/23 [==============================] - 7s 294ms/step - loss: 7.4308e-04 - val_loss: 6.4796e-04\n",
      "Epoch 19/100\n",
      "23/23 [==============================] - 7s 287ms/step - loss: 8.0839e-04 - val_loss: 8.1713e-04\n",
      "Epoch 20/100\n",
      "23/23 [==============================] - 7s 292ms/step - loss: 6.8417e-04 - val_loss: 6.9255e-04\n",
      "Epoch 21/100\n",
      "23/23 [==============================] - 7s 285ms/step - loss: 6.8871e-04 - val_loss: 6.8357e-04\n",
      "Epoch 22/100\n",
      "23/23 [==============================] - 6s 278ms/step - loss: 6.8721e-04 - val_loss: 6.2549e-04\n",
      "Epoch 23/100\n",
      "23/23 [==============================] - 7s 282ms/step - loss: 7.2863e-04 - val_loss: 7.0701e-04\n",
      "Epoch 24/100\n",
      "23/23 [==============================] - 6s 279ms/step - loss: 6.7265e-04 - val_loss: 0.0011\n",
      "Epoch 25/100\n",
      "23/23 [==============================] - 6s 276ms/step - loss: 6.6911e-04 - val_loss: 7.8476e-04\n",
      "Epoch 26/100\n",
      "23/23 [==============================] - 7s 286ms/step - loss: 6.3779e-04 - val_loss: 6.6616e-04\n",
      "Epoch 27/100\n",
      "23/23 [==============================] - 6s 281ms/step - loss: 5.8033e-04 - val_loss: 6.6381e-04\n",
      "Epoch 28/100\n",
      "23/23 [==============================] - 6s 274ms/step - loss: 5.9112e-04 - val_loss: 7.7899e-04\n",
      "Epoch 29/100\n",
      "23/23 [==============================] - 6s 283ms/step - loss: 5.7763e-04 - val_loss: 6.2554e-04\n",
      "Epoch 30/100\n",
      "23/23 [==============================] - 6s 282ms/step - loss: 6.2255e-04 - val_loss: 5.5919e-04\n",
      "Epoch 31/100\n",
      "23/23 [==============================] - 6s 282ms/step - loss: 5.3978e-04 - val_loss: 5.4262e-04\n",
      "Epoch 32/100\n",
      "23/23 [==============================] - 6s 282ms/step - loss: 5.3672e-04 - val_loss: 4.9600e-04\n",
      "Epoch 33/100\n",
      "23/23 [==============================] - 6s 275ms/step - loss: 5.4297e-04 - val_loss: 6.3870e-04\n",
      "Epoch 34/100\n",
      "23/23 [==============================] - 6s 278ms/step - loss: 4.9766e-04 - val_loss: 5.6736e-04\n",
      "Epoch 35/100\n",
      "23/23 [==============================] - 7s 283ms/step - loss: 5.2690e-04 - val_loss: 5.5204e-04\n",
      "Epoch 36/100\n",
      "23/23 [==============================] - 6s 276ms/step - loss: 4.8211e-04 - val_loss: 6.0014e-04\n",
      "Epoch 37/100\n",
      "23/23 [==============================] - 7s 286ms/step - loss: 4.8093e-04 - val_loss: 5.9750e-04\n",
      "Epoch 38/100\n",
      "23/23 [==============================] - 6s 283ms/step - loss: 4.5648e-04 - val_loss: 4.9345e-04\n",
      "Epoch 39/100\n",
      "23/23 [==============================] - 8s 369ms/step - loss: 4.3623e-04 - val_loss: 5.0445e-04\n",
      "Epoch 40/100\n",
      "23/23 [==============================] - 9s 388ms/step - loss: 4.1800e-04 - val_loss: 4.3475e-04\n",
      "Epoch 41/100\n",
      "23/23 [==============================] - 7s 320ms/step - loss: 4.2509e-04 - val_loss: 4.6620e-04\n",
      "Epoch 42/100\n",
      "23/23 [==============================] - 7s 294ms/step - loss: 4.1694e-04 - val_loss: 4.4773e-04\n",
      "Epoch 43/100\n",
      "23/23 [==============================] - 7s 290ms/step - loss: 4.9302e-04 - val_loss: 4.4507e-04\n",
      "Epoch 44/100\n",
      "23/23 [==============================] - 7s 290ms/step - loss: 3.9413e-04 - val_loss: 4.0880e-04\n",
      "Epoch 45/100\n",
      "23/23 [==============================] - 7s 297ms/step - loss: 3.7198e-04 - val_loss: 4.0112e-04\n",
      "Epoch 46/100\n",
      "23/23 [==============================] - 7s 284ms/step - loss: 4.1971e-04 - val_loss: 3.5791e-04\n",
      "Epoch 47/100\n",
      "23/23 [==============================] - 7s 292ms/step - loss: 4.5919e-04 - val_loss: 4.8861e-04\n",
      "Epoch 48/100\n",
      "23/23 [==============================] - 7s 291ms/step - loss: 3.5562e-04 - val_loss: 3.0780e-04\n",
      "Epoch 49/100\n",
      "23/23 [==============================] - 7s 285ms/step - loss: 3.7832e-04 - val_loss: 3.1569e-04\n",
      "Epoch 50/100\n",
      "23/23 [==============================] - 7s 296ms/step - loss: 3.6546e-04 - val_loss: 3.9769e-04\n",
      "Epoch 51/100\n",
      "23/23 [==============================] - 7s 288ms/step - loss: 3.7166e-04 - val_loss: 3.5164e-04\n",
      "Epoch 52/100\n",
      "23/23 [==============================] - 7s 289ms/step - loss: 3.0776e-04 - val_loss: 3.4959e-04\n",
      "Epoch 53/100\n",
      "23/23 [==============================] - 7s 293ms/step - loss: 3.2143e-04 - val_loss: 4.9097e-04\n",
      "Epoch 54/100\n",
      "23/23 [==============================] - 7s 285ms/step - loss: 4.0073e-04 - val_loss: 3.5739e-04\n",
      "Epoch 55/100\n",
      "23/23 [==============================] - 7s 292ms/step - loss: 3.3835e-04 - val_loss: 2.5075e-04\n",
      "Epoch 56/100\n",
      "23/23 [==============================] - 7s 291ms/step - loss: 3.3443e-04 - val_loss: 3.7137e-04\n",
      "Epoch 57/100\n",
      "23/23 [==============================] - 7s 299ms/step - loss: 2.8299e-04 - val_loss: 2.8702e-04\n",
      "Epoch 58/100\n",
      "23/23 [==============================] - 7s 287ms/step - loss: 2.7414e-04 - val_loss: 2.8091e-04\n",
      "Epoch 59/100\n",
      "23/23 [==============================] - 7s 294ms/step - loss: 2.9915e-04 - val_loss: 3.1618e-04\n",
      "Epoch 60/100\n",
      "23/23 [==============================] - 7s 289ms/step - loss: 2.6894e-04 - val_loss: 3.1604e-04\n",
      "Epoch 61/100\n",
      "23/23 [==============================] - 7s 284ms/step - loss: 2.8082e-04 - val_loss: 2.7356e-04\n",
      "Epoch 62/100\n",
      "23/23 [==============================] - 6s 280ms/step - loss: 2.6805e-04 - val_loss: 2.6006e-04\n",
      "Epoch 63/100\n",
      "23/23 [==============================] - 6s 281ms/step - loss: 3.0684e-04 - val_loss: 2.7673e-04\n",
      "Epoch 64/100\n",
      "23/23 [==============================] - 7s 287ms/step - loss: 2.7473e-04 - val_loss: 2.2802e-04\n",
      "Epoch 65/100\n",
      "23/23 [==============================] - 7s 284ms/step - loss: 2.5716e-04 - val_loss: 2.7412e-04\n",
      "Epoch 66/100\n",
      "23/23 [==============================] - 6s 283ms/step - loss: 2.5876e-04 - val_loss: 2.3968e-04\n",
      "Epoch 67/100\n",
      "23/23 [==============================] - 6s 282ms/step - loss: 2.4613e-04 - val_loss: 2.9012e-04\n",
      "Epoch 68/100\n",
      "23/23 [==============================] - 7s 295ms/step - loss: 2.6392e-04 - val_loss: 2.9518e-04\n",
      "Epoch 69/100\n",
      "23/23 [==============================] - 7s 302ms/step - loss: 2.6972e-04 - val_loss: 2.4606e-04\n",
      "Epoch 70/100\n",
      "23/23 [==============================] - 7s 291ms/step - loss: 3.0118e-04 - val_loss: 4.5825e-04\n",
      "Epoch 71/100\n",
      "23/23 [==============================] - 6s 280ms/step - loss: 3.1821e-04 - val_loss: 2.0030e-04\n",
      "Epoch 72/100\n",
      "23/23 [==============================] - 6s 275ms/step - loss: 2.8336e-04 - val_loss: 2.0434e-04\n",
      "Epoch 73/100\n",
      "23/23 [==============================] - 7s 284ms/step - loss: 2.2361e-04 - val_loss: 2.2387e-04\n",
      "Epoch 74/100\n",
      "23/23 [==============================] - 7s 285ms/step - loss: 2.6201e-04 - val_loss: 2.0756e-04\n",
      "Epoch 75/100\n",
      "23/23 [==============================] - 6s 275ms/step - loss: 2.4973e-04 - val_loss: 2.6510e-04\n",
      "Epoch 76/100\n",
      "23/23 [==============================] - 6s 277ms/step - loss: 2.5289e-04 - val_loss: 1.7988e-04\n",
      "Epoch 77/100\n",
      "23/23 [==============================] - 6s 281ms/step - loss: 2.5245e-04 - val_loss: 3.3238e-04\n",
      "Epoch 78/100\n",
      "23/23 [==============================] - 6s 276ms/step - loss: 2.6109e-04 - val_loss: 1.9206e-04\n",
      "Epoch 79/100\n",
      "23/23 [==============================] - 6s 275ms/step - loss: 2.8164e-04 - val_loss: 2.2576e-04\n",
      "Epoch 80/100\n",
      "23/23 [==============================] - 6s 276ms/step - loss: 2.1110e-04 - val_loss: 1.7274e-04\n",
      "Epoch 81/100\n",
      "23/23 [==============================] - 6s 277ms/step - loss: 2.1552e-04 - val_loss: 1.8794e-04\n",
      "Epoch 82/100\n",
      "23/23 [==============================] - 6s 281ms/step - loss: 2.1701e-04 - val_loss: 3.6605e-04\n",
      "Epoch 83/100\n",
      "23/23 [==============================] - 6s 279ms/step - loss: 3.1760e-04 - val_loss: 2.0076e-04\n",
      "Epoch 84/100\n",
      "23/23 [==============================] - 7s 291ms/step - loss: 3.1450e-04 - val_loss: 1.6126e-04\n",
      "Epoch 85/100\n",
      "23/23 [==============================] - 6s 275ms/step - loss: 2.3433e-04 - val_loss: 1.6169e-04\n",
      "Epoch 86/100\n",
      "23/23 [==============================] - 6s 277ms/step - loss: 2.1160e-04 - val_loss: 1.6233e-04\n",
      "Epoch 87/100\n",
      "23/23 [==============================] - 7s 287ms/step - loss: 2.0292e-04 - val_loss: 3.1569e-04\n",
      "Epoch 88/100\n",
      "23/23 [==============================] - 6s 274ms/step - loss: 2.2713e-04 - val_loss: 2.3408e-04\n",
      "Epoch 89/100\n",
      "23/23 [==============================] - 6s 277ms/step - loss: 2.0002e-04 - val_loss: 1.6717e-04\n",
      "Epoch 90/100\n",
      "23/23 [==============================] - 6s 273ms/step - loss: 2.2075e-04 - val_loss: 2.9777e-04\n",
      "Epoch 91/100\n",
      "23/23 [==============================] - 7s 287ms/step - loss: 2.1322e-04 - val_loss: 2.3453e-04\n",
      "Epoch 92/100\n",
      "23/23 [==============================] - 7s 283ms/step - loss: 1.9585e-04 - val_loss: 1.9345e-04\n",
      "Epoch 93/100\n",
      "23/23 [==============================] - 7s 284ms/step - loss: 2.3104e-04 - val_loss: 1.4709e-04\n",
      "Epoch 94/100\n",
      "23/23 [==============================] - 7s 285ms/step - loss: 1.9738e-04 - val_loss: 1.8116e-04\n",
      "Epoch 95/100\n",
      "23/23 [==============================] - 6s 273ms/step - loss: 1.9168e-04 - val_loss: 1.8354e-04\n",
      "Epoch 96/100\n",
      "23/23 [==============================] - 7s 293ms/step - loss: 1.9676e-04 - val_loss: 2.6264e-04\n",
      "Epoch 97/100\n",
      "23/23 [==============================] - 7s 294ms/step - loss: 2.3970e-04 - val_loss: 1.4296e-04\n",
      "Epoch 98/100\n",
      "23/23 [==============================] - 7s 287ms/step - loss: 2.1576e-04 - val_loss: 2.0562e-04\n",
      "Epoch 99/100\n",
      "23/23 [==============================] - 7s 286ms/step - loss: 2.2873e-04 - val_loss: 3.6068e-04\n",
      "Epoch 100/100\n",
      "23/23 [==============================] - 7s 286ms/step - loss: 3.0172e-04 - val_loss: 1.4774e-04\n"
     ]
    },
    {
     "data": {
      "text/plain": [
       "<tensorflow.python.keras.callbacks.History at 0x1d84c614550>"
      ]
     },
     "execution_count": 19,
     "metadata": {},
     "output_type": "execute_result"
    }
   ],
   "source": [
    "model.fit(x_train, y_train, validation_data = (x_test, y_test), epochs = 100, batch_size = 64, verbose = 1)"
   ]
  },
  {
   "cell_type": "code",
   "execution_count": 20,
   "id": "5d0e09f2",
   "metadata": {},
   "outputs": [],
   "source": [
    "#Lets predict and check performance metrics\n",
    "train_predict = model.predict(x_train)\n",
    "test_predict = model.predict(x_test)"
   ]
  },
  {
   "cell_type": "code",
   "execution_count": 22,
   "id": "17722d6f",
   "metadata": {},
   "outputs": [],
   "source": [
    "#Transform back to original form\n",
    "train_predict = scaler.inverse_transform(train_predict)\n",
    "test_predict = scaler.inverse_transform(test_predict)"
   ]
  },
  {
   "cell_type": "code",
   "execution_count": 23,
   "id": "8f7d7df1",
   "metadata": {},
   "outputs": [
    {
     "data": {
      "text/plain": [
       "0.013712790623674241"
      ]
     },
     "execution_count": 23,
     "metadata": {},
     "output_type": "execute_result"
    }
   ],
   "source": [
    "#Calculate RMSE performance metrics\n",
    "math.sqrt(mean_squared_error(y_train, train_predict))"
   ]
  },
  {
   "cell_type": "code",
   "execution_count": 24,
   "id": "5bcc5592",
   "metadata": {},
   "outputs": [
    {
     "data": {
      "text/plain": [
       "0.012154854544283398"
      ]
     },
     "execution_count": 24,
     "metadata": {},
     "output_type": "execute_result"
    }
   ],
   "source": [
    "#Test Data RMSE\n",
    "math.sqrt(mean_squared_error(y_test, test_predict))"
   ]
  },
  {
   "cell_type": "code",
   "execution_count": 25,
   "id": "2dddc4a2",
   "metadata": {},
   "outputs": [],
   "source": [
    "#Plotting\n",
    "#Shift train prediction for plotting\n",
    "look_back = 100\n",
    "trainPredictPlot = np.empty_like(df1)\n",
    "trainPredictPlot[:,:] = np.nan\n",
    "trainPredictPlot[look_back:len(train_predict) + look_back, :] = train_predict"
   ]
  },
  {
   "cell_type": "code",
   "execution_count": 26,
   "id": "53242758",
   "metadata": {},
   "outputs": [],
   "source": [
    "#Shift test prediction for plotting\n",
    "testPredictPlot = np.empty_like(df1)\n",
    "testPredictPlot[:,:] = np.nan\n",
    "testPredictPlot[len(train_predict) + (look_back * 2)+1:len(df1) - 1, :] = test_predict"
   ]
  },
  {
   "cell_type": "code",
   "execution_count": 27,
   "id": "970f1d7a",
   "metadata": {},
   "outputs": [
    {
     "data": {
      "image/png": "[encoded data removed]",
      "text/plain": [
       "<Figure size 432x288 with 1 Axes>"
      ]
     },
     "metadata": {
      "needs_background": "light"
     },
     "output_type": "display_data"
    }
   ],
   "source": [
    "#Plot baseline and predictions\n",
    "plt.plot(scaler.inverse_transform(df1))\n",
    "plt.plot(trainPredictPlot)\n",
    "plt.plot(testPredictPlot)\n",
    "plt.show()"
   ]
  },
  {
   "cell_type": "code",
   "execution_count": null,
   "id": "b3826b95",
   "metadata": {},
   "outputs": [],
   "source": []
  }
 ],
 "metadata": {
  "kernelspec": {
   "display_name": "Python 3 (ipykernel)",
   "language": "python",
   "name": "python3"
  },
  "language_info": {
   "codemirror_mode": {
    "name": "ipython",
    "version": 3
   },
   "file_extension": ".py",
   "mimetype": "text/x-python",
   "name": "python",
   "nbconvert_exporter": "python",
   "pygments_lexer": "ipython3",
   "version": "3.10.2"
  }
 },
 "nbformat": 4,
 "nbformat_minor": 5
}
